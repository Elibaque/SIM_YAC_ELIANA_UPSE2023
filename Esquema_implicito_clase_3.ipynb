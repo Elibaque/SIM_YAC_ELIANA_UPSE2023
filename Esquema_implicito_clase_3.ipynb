{
  "nbformat": 4,
  "nbformat_minor": 0,
  "metadata": {
    "colab": {
      "provenance": [],
      "authorship_tag": "ABX9TyMHAy2No/IsuIxEg3hBdgPa",
      "include_colab_link": true
    },
    "kernelspec": {
      "name": "python3",
      "display_name": "Python 3"
    },
    "language_info": {
      "name": "python"
    }
  },
  "cells": [
    {
      "cell_type": "markdown",
      "metadata": {
        "id": "view-in-github",
        "colab_type": "text"
      },
      "source": [
        "<a href=\"https://colab.research.google.com/github/Elibaque/SIM_YAC_ELIANA_UPSE2023/blob/main/Esquema_implicito_clase_3.ipynb\" target=\"_parent\"><img src=\"https://colab.research.google.com/assets/colab-badge.svg\" alt=\"Open In Colab\"/></a>"
      ]
    },
    {
      "cell_type": "code",
      "execution_count": 1,
      "metadata": {
        "id": "IMo_AhknjFXU"
      },
      "outputs": [],
      "source": [
        "import numpy  as np\n",
        "import math"
      ]
    },
    {
      "cell_type": "code",
      "source": [
        "#Datos del Yacimiento\n",
        "L=10000\n",
        "dx=500\n",
        "Tiempo=100\n",
        "DT=10\n",
        "K=50 #Permeabilidad MD\n",
        "por=0.2\n",
        "vis=1 # centipoise\n",
        "Beta=1\n",
        "CompTotal=1*10**(-6) #ps1-1\n",
        "A=200000#ft^2\n"
      ],
      "metadata": {
        "id": "cAXueZz1AVoi"
      },
      "execution_count": 2,
      "outputs": []
    },
    {
      "cell_type": "code",
      "source": [
        "#Calculo de Alpha y Eta con las formulas correspondientes\n",
        "Alpha=K/(vis*por*CompTotal)\n",
        "Alpha\n",
        "Eta=(Alpha*DT)/(dx**2)\n",
        "Eta"
      ],
      "metadata": {
        "colab": {
          "base_uri": "https://localhost:8080/"
        },
        "id": "81ixm3fMAZSV",
        "outputId": "5fdb461b-b110-4562-edec-94ece32c35d7"
      },
      "execution_count": 3,
      "outputs": [
        {
          "output_type": "execute_result",
          "data": {
            "text/plain": [
              "10000.0"
            ]
          },
          "metadata": {},
          "execution_count": 3
        }
      ]
    },
    {
      "cell_type": "markdown",
      "source": [
        "Esquema implicito\n"
      ],
      "metadata": {
        "id": "7pOgea-VDQBE"
      }
    },
    {
      "cell_type": "code",
      "source": [
        "# Matriz Triagonal depende de cada ecuacion\n",
        "Pimplicita=np.zeros((Tiempo//DT,(L//dx)+2))#creacion de matriz en cero de la Presion implicita\n",
        "Qimplicita=np.zeros((Tiempo//DT,(L//dx)))#creacion de matriz en cero del caudal implicita"
      ],
      "metadata": {
        "id": "NLE3B7DCAum2"
      },
      "execution_count": 4,
      "outputs": []
    },
    {
      "cell_type": "code",
      "source": [
        "#Condiciones iniciales\n",
        "Pyac=4000\n",
        "Piz=2000\n",
        "Pder=0\n",
        "Pin=np.ones((L//dx)+2)# crear vector de unos para poder llenar los datos con la presion del yacimiento\n",
        "Pres=np.zeros((L//dx)+2)# crear vector en ceros donde se colocaran los resultados de la presion\n",
        "Qres=np.zeros((L//dx))# crear vector en ceros donde se colocaran los resultados del caudal\n",
        "Pin=Pin*Pyac\n",
        "Pin[0]=2*Piz-Pin[1]#condiciones iniciales de correccion de frontera\n",
        "Pin[len(Pin)-1]=2*Pder-Pin[len(Pin)-2]#condiciones iniciales de correccion de frontera lado derecho"
      ],
      "metadata": {
        "id": "Mwrd_-D8Eo9Y"
      },
      "execution_count": 5,
      "outputs": []
    },
    {
      "cell_type": "code",
      "source": [
        "Pin"
      ],
      "metadata": {
        "colab": {
          "base_uri": "https://localhost:8080/"
        },
        "id": "TSJ-kdrrCDR-",
        "outputId": "01d44649-15cb-400b-a047-9be5dd39202c"
      },
      "execution_count": 6,
      "outputs": [
        {
          "output_type": "execute_result",
          "data": {
            "text/plain": [
              "array([    0.,  4000.,  4000.,  4000.,  4000.,  4000.,  4000.,  4000.,\n",
              "        4000.,  4000.,  4000.,  4000.,  4000.,  4000.,  4000.,  4000.,\n",
              "        4000.,  4000.,  4000.,  4000.,  4000., -4000.])"
            ]
          },
          "metadata": {},
          "execution_count": 6
        }
      ]
    },
    {
      "cell_type": "code",
      "source": [
        "Pin[0]=Piz  #condicion cuando la presion es cero va ser igual a la presion de la izquierda\n",
        "Pin[len(Pin)-1]=Pder #condicion cuando la presion se encuentra en el ultimo nodo va ser igual a la presion de la derecha\n",
        "N=(L//dx)+2 # numero de nodos totales donde se incluyen los nodos de la frontera\n",
        "Baccumul=A*dx*por*CompTotal/Beta# volumen acumulado formula\n",
        "Transmisibilidad=(K*A/(vis*Beta*dx))*6.33*10**-3# formulta de la transmisibilidadad con factor de correccion por las diferentes unidades\n",
        "B=np.zeros([N-2,N-2])#vector en cero de el volumen acumulado donde se ingresan los valores de acuerdo a las condiciones\n",
        "T=np.zeros([N-2,N-2])#vector en cero de el volumen acumulado donde se ingresan los valores de transmisiblidad de acuerdo a las condiciones\n",
        "Transmisibilidad"
      ],
      "metadata": {
        "colab": {
          "base_uri": "https://localhost:8080/"
        },
        "id": "Bdu7K0orFk3M",
        "outputId": "4a4b1318-249f-4b86-9ede-914e441268ef"
      },
      "execution_count": 7,
      "outputs": [
        {
          "output_type": "execute_result",
          "data": {
            "text/plain": [
              "126.60000000000001"
            ]
          },
          "metadata": {},
          "execution_count": 7
        }
      ]
    },
    {
      "cell_type": "code",
      "source": [
        "#Caracteristicas de la matriz de Volumen acumulado\n",
        "for i in range(0,N-2):\n",
        "  B[i,i]= Baccumul#Solo cuando i=i va a tener el mismo valor que el volumenacumulado\n",
        " #Caracteristicas de la matriz de la transmisibilidad\n",
        "for i in range(0,N-2):\n",
        "  T[i,i]=2*Transmisibilidad#Solo cuando i=i va a tener el valor del doble de transmisibilidad\n",
        "  if i>0: #siempre y cuando i se encuentre en la posicion mayor a 0\n",
        "    T[i,i-1]=-Transmisibilidad#Los valores de la derecha cuando i=i van a ser la transmisibilidad negativa\n",
        "  if i<(N-3): #siempre y cuando i se encuentre en la posicion mayor a N-3\n",
        "    T[i,i+1]=-Transmisibilidad  #Los valores de la izquierda cuando i=i van a ser la transmisibilidad negativa\n",
        "T[0,0]=3*Transmisibilidad # Cuando se encuentren en la posicion 0,0 va a vales tres veces la transmisibilidad\n",
        "T[N-3,N-3]=Transmisibilidad# Cuando se encuentren en la posicion N-3,N-3 va a ser igual a la transmisibilidad\n",
        "T"
      ],
      "metadata": {
        "id": "CKWYj8UMFZwh",
        "colab": {
          "base_uri": "https://localhost:8080/"
        },
        "outputId": "94206f8e-4129-453d-88cd-1c3386b85379"
      },
      "execution_count": 8,
      "outputs": [
        {
          "output_type": "execute_result",
          "data": {
            "text/plain": [
              "array([[ 379.8, -126.6,    0. ,    0. ,    0. ,    0. ,    0. ,    0. ,\n",
              "           0. ,    0. ,    0. ,    0. ,    0. ,    0. ,    0. ,    0. ,\n",
              "           0. ,    0. ,    0. ,    0. ],\n",
              "       [-126.6,  253.2, -126.6,    0. ,    0. ,    0. ,    0. ,    0. ,\n",
              "           0. ,    0. ,    0. ,    0. ,    0. ,    0. ,    0. ,    0. ,\n",
              "           0. ,    0. ,    0. ,    0. ],\n",
              "       [   0. , -126.6,  253.2, -126.6,    0. ,    0. ,    0. ,    0. ,\n",
              "           0. ,    0. ,    0. ,    0. ,    0. ,    0. ,    0. ,    0. ,\n",
              "           0. ,    0. ,    0. ,    0. ],\n",
              "       [   0. ,    0. , -126.6,  253.2, -126.6,    0. ,    0. ,    0. ,\n",
              "           0. ,    0. ,    0. ,    0. ,    0. ,    0. ,    0. ,    0. ,\n",
              "           0. ,    0. ,    0. ,    0. ],\n",
              "       [   0. ,    0. ,    0. , -126.6,  253.2, -126.6,    0. ,    0. ,\n",
              "           0. ,    0. ,    0. ,    0. ,    0. ,    0. ,    0. ,    0. ,\n",
              "           0. ,    0. ,    0. ,    0. ],\n",
              "       [   0. ,    0. ,    0. ,    0. , -126.6,  253.2, -126.6,    0. ,\n",
              "           0. ,    0. ,    0. ,    0. ,    0. ,    0. ,    0. ,    0. ,\n",
              "           0. ,    0. ,    0. ,    0. ],\n",
              "       [   0. ,    0. ,    0. ,    0. ,    0. , -126.6,  253.2, -126.6,\n",
              "           0. ,    0. ,    0. ,    0. ,    0. ,    0. ,    0. ,    0. ,\n",
              "           0. ,    0. ,    0. ,    0. ],\n",
              "       [   0. ,    0. ,    0. ,    0. ,    0. ,    0. , -126.6,  253.2,\n",
              "        -126.6,    0. ,    0. ,    0. ,    0. ,    0. ,    0. ,    0. ,\n",
              "           0. ,    0. ,    0. ,    0. ],\n",
              "       [   0. ,    0. ,    0. ,    0. ,    0. ,    0. ,    0. , -126.6,\n",
              "         253.2, -126.6,    0. ,    0. ,    0. ,    0. ,    0. ,    0. ,\n",
              "           0. ,    0. ,    0. ,    0. ],\n",
              "       [   0. ,    0. ,    0. ,    0. ,    0. ,    0. ,    0. ,    0. ,\n",
              "        -126.6,  253.2, -126.6,    0. ,    0. ,    0. ,    0. ,    0. ,\n",
              "           0. ,    0. ,    0. ,    0. ],\n",
              "       [   0. ,    0. ,    0. ,    0. ,    0. ,    0. ,    0. ,    0. ,\n",
              "           0. , -126.6,  253.2, -126.6,    0. ,    0. ,    0. ,    0. ,\n",
              "           0. ,    0. ,    0. ,    0. ],\n",
              "       [   0. ,    0. ,    0. ,    0. ,    0. ,    0. ,    0. ,    0. ,\n",
              "           0. ,    0. , -126.6,  253.2, -126.6,    0. ,    0. ,    0. ,\n",
              "           0. ,    0. ,    0. ,    0. ],\n",
              "       [   0. ,    0. ,    0. ,    0. ,    0. ,    0. ,    0. ,    0. ,\n",
              "           0. ,    0. ,    0. , -126.6,  253.2, -126.6,    0. ,    0. ,\n",
              "           0. ,    0. ,    0. ,    0. ],\n",
              "       [   0. ,    0. ,    0. ,    0. ,    0. ,    0. ,    0. ,    0. ,\n",
              "           0. ,    0. ,    0. ,    0. , -126.6,  253.2, -126.6,    0. ,\n",
              "           0. ,    0. ,    0. ,    0. ],\n",
              "       [   0. ,    0. ,    0. ,    0. ,    0. ,    0. ,    0. ,    0. ,\n",
              "           0. ,    0. ,    0. ,    0. ,    0. , -126.6,  253.2, -126.6,\n",
              "           0. ,    0. ,    0. ,    0. ],\n",
              "       [   0. ,    0. ,    0. ,    0. ,    0. ,    0. ,    0. ,    0. ,\n",
              "           0. ,    0. ,    0. ,    0. ,    0. ,    0. , -126.6,  253.2,\n",
              "        -126.6,    0. ,    0. ,    0. ],\n",
              "       [   0. ,    0. ,    0. ,    0. ,    0. ,    0. ,    0. ,    0. ,\n",
              "           0. ,    0. ,    0. ,    0. ,    0. ,    0. ,    0. , -126.6,\n",
              "         253.2, -126.6,    0. ,    0. ],\n",
              "       [   0. ,    0. ,    0. ,    0. ,    0. ,    0. ,    0. ,    0. ,\n",
              "           0. ,    0. ,    0. ,    0. ,    0. ,    0. ,    0. ,    0. ,\n",
              "        -126.6,  253.2, -126.6,    0. ],\n",
              "       [   0. ,    0. ,    0. ,    0. ,    0. ,    0. ,    0. ,    0. ,\n",
              "           0. ,    0. ,    0. ,    0. ,    0. ,    0. ,    0. ,    0. ,\n",
              "           0. , -126.6,  253.2, -126.6],\n",
              "       [   0. ,    0. ,    0. ,    0. ,    0. ,    0. ,    0. ,    0. ,\n",
              "           0. ,    0. ,    0. ,    0. ,    0. ,    0. ,    0. ,    0. ,\n",
              "           0. ,    0. , -126.6,  126.6]])"
            ]
          },
          "metadata": {},
          "execution_count": 8
        }
      ]
    },
    {
      "cell_type": "code",
      "source": [
        "#Respecto a la presion\n",
        "Matriz_resolucion=np.zeros_like(T) # se crea matriz del tamaño del T\n",
        "Vector_sol=np.zeros_like(Pin[1:-1])# Se indica donde empieza y hasta donde termina la matriz en ceros\n",
        "Matriz_resolucion=T+(B/DT) #Aplicacion de una parte de la ecuacion del esquema implicito\n",
        "Vector_sol=np.matmul(B/DT,Pin[1:-1])#Calcula las matrices, multiplica la matriz  B/DT con Pin[1:-1]\n",
        "#Pres=[]\n",
        "#Respecto al caudal\n",
        "Q=np.zeros_like(Vector_sol)# se crea matriz del tamaño del Vector_sol\n",
        "Q[0]=2*Transmisibilidad*Piz# se coloca la condicion cuando Q se encuentre en el nodo cero\n",
        "Vector_sol=Vector_sol+Q\n",
        "Q\n"
      ],
      "metadata": {
        "colab": {
          "base_uri": "https://localhost:8080/"
        },
        "id": "DslssJaIGuJI",
        "outputId": "e8025d58-73c0-49f3-9565-a1b6f4e26569"
      },
      "execution_count": 9,
      "outputs": [
        {
          "output_type": "execute_result",
          "data": {
            "text/plain": [
              "array([506400.,      0.,      0.,      0.,      0.,      0.,      0.,\n",
              "            0.,      0.,      0.,      0.,      0.,      0.,      0.,\n",
              "            0.,      0.,      0.,      0.,      0.,      0.])"
            ]
          },
          "metadata": {},
          "execution_count": 9
        }
      ]
    },
    {
      "cell_type": "code",
      "source": [
        "Pcal=np.linalg.solve(Matriz_resolucion,Vector_sol)#como es un sistema de ecuaciones lineales se resuelve por linalg"
      ],
      "metadata": {
        "id": "HSk9c7AIG2qj"
      },
      "execution_count": 10,
      "outputs": []
    },
    {
      "cell_type": "code",
      "source": [
        "Qimplicita[0]=Q\n",
        "t=DT\n",
        "while t<Tiempo:\n",
        "  Pcal=np.linalg.solve(Matriz_resolucion,Vector_sol)\n",
        "  Pres=np.concatenate(([Piz],Pcal,[Pder]))\n",
        "  Pimplicita[t//DT]=Pres\n",
        "  Vector_sol=np.matmul(B/DT,Pcal)+Q\n",
        "  Qimplicita[t//DT]=Vector_sol\n",
        "  t=t+DT"
      ],
      "metadata": {
        "id": "WcB5pQqYG43t"
      },
      "execution_count": 11,
      "outputs": []
    },
    {
      "cell_type": "code",
      "source": [
        "import matplotlib.pyplot as plt\n",
        "\n",
        "imgplot = plt.imshow(Qimplicita,aspect='auto')\n",
        "plt.colorbar()\n"
      ],
      "metadata": {
        "colab": {
          "base_uri": "https://localhost:8080/",
          "height": 447
        },
        "id": "IhtZm7EQHLAI",
        "outputId": "9de598fc-0f1c-4073-e850-94bd0382d485"
      },
      "execution_count": 12,
      "outputs": [
        {
          "output_type": "execute_result",
          "data": {
            "text/plain": [
              "<matplotlib.colorbar.Colorbar at 0x7f6130d031f0>"
            ]
          },
          "metadata": {},
          "execution_count": 12
        },
        {
          "output_type": "display_data",
          "data": {
            "text/plain": [
              "<Figure size 640x480 with 2 Axes>"
            ],
            "image/png": "[encoded data removed]"
          },
          "metadata": {}
        }
      ]
    },
    {
      "cell_type": "code",
      "source": [
        "import matplotlib.pyplot as plt\n",
        "\n",
        "imgplot = plt.imshow(Pimplicita,aspect='auto')\n",
        "plt.colorbar()"
      ],
      "metadata": {
        "colab": {
          "base_uri": "https://localhost:8080/",
          "height": 447
        },
        "id": "U0VpiHoHHR2N",
        "outputId": "3feb5c64-e947-49d2-e823-4e1080b728bd"
      },
      "execution_count": 13,
      "outputs": [
        {
          "output_type": "execute_result",
          "data": {
            "text/plain": [
              "<matplotlib.colorbar.Colorbar at 0x7f6130c698d0>"
            ]
          },
          "metadata": {},
          "execution_count": 13
        },
        {
          "output_type": "display_data",
          "data": {
            "text/plain": [
              "<Figure size 640x480 with 2 Axes>"
            ],
            "image/png": "[encoded data removed]"
          },
          "metadata": {}
        }
      ]
    }
  ]
}