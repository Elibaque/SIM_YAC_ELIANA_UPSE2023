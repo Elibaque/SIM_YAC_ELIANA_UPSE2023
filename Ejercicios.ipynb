{
  "nbformat": 4,
  "nbformat_minor": 0,
  "metadata": {
    "colab": {
      "provenance": [],
      "authorship_tag": "ABX9TyPdAQAh5Z3xEWoCAyHxieXG",
      "include_colab_link": true
    },
    "kernelspec": {
      "name": "python3",
      "display_name": "Python 3"
    },
    "language_info": {
      "name": "python"
    }
  },
  "cells": [
    {
      "cell_type": "markdown",
      "metadata": {
        "id": "view-in-github",
        "colab_type": "text"
      },
      "source": [
        "<a href=\"https://colab.research.google.com/github/Elibaque/SIM_YAC_ELIANA_UPSE2023/blob/main/Ejercicios.ipynb\" target=\"_parent\"><img src=\"https://colab.research.google.com/assets/colab-badge.svg\" alt=\"Open In Colab\"/></a>"
      ]
    },
    {
      "cell_type": "code",
      "execution_count": null,
      "metadata": {
        "id": "VbvKQVow9iDc"
      },
      "outputs": [],
      "source": [
        "#Hola"
      ]
    },
    {
      "cell_type": "code",
      "source": [
        "def calcular(base, altura):\n",
        "  return base*altura\n"
      ],
      "metadata": {
        "id": "Xp88Z4W-G633"
      },
      "execution_count": null,
      "outputs": []
    },
    {
      "cell_type": "code",
      "source": [
        "calcular(10, 5)\n"
      ],
      "metadata": {
        "colab": {
          "base_uri": "https://localhost:8080/"
        },
        "id": "ph7fkQenIsnF",
        "outputId": "ad2f70c0-7bc7-4e8d-e517-79c8abd4b226"
      },
      "execution_count": null,
      "outputs": [
        {
          "output_type": "execute_result",
          "data": {
            "text/plain": [
              "50"
            ]
          },
          "metadata": {},
          "execution_count": 3
        }
      ]
    },
    {
      "cell_type": "markdown",
      "source": [
        "FORMULA DE LA ECUACION DE LA DIFUSIVIDAD"
      ],
      "metadata": {
        "id": "Oa7G-YSXO4WN"
      }
    },
    {
      "cell_type": "code",
      "source": [
        "P0 = 0\n",
        "P1 = 4000\n",
        "P2 = 4000\n",
        "P3 = 4000\n",
        "P4 = 4000\n",
        "P5 = 0\n",
        "Deltat= 10\n",
        "Deltax= 200"
      ],
      "metadata": {
        "id": "DeoPY7MwPRtY"
      },
      "execution_count": 5,
      "outputs": []
    },
    {
      "cell_type": "code",
      "source": [
        "#Datos Pn1"
      ],
      "metadata": {
        "id": "uyV8jNQUQsfd"
      },
      "execution_count": 6,
      "outputs": []
    },
    {
      "cell_type": "code",
      "source": [
        "def funcion(P0, P1, P2, Deltat, Deltax):\n",
        "  return (((P0 - 2 * P1 + P2) / Deltax**2) * Deltat) + P1"
      ],
      "metadata": {
        "id": "lTdk8vYbP4c7"
      },
      "execution_count": 7,
      "outputs": []
    },
    {
      "cell_type": "code",
      "source": [
        "Pin1 = funcion(P0, P1, P2, Deltat, Deltax)\n",
        "print(Pin1)\n",
        "Pi1n1 = funcion(P1, P2, P3, Deltat, Deltax)\n",
        "print(Pi1n1)\n",
        "Pi2n1 = funcion(P2, P3, P4, Deltat, Deltax)\n",
        "print(Pi2n1)\n",
        "Pi3n1 = funcion(P3, P4, P5, Deltat, Deltax)\n",
        "print(Pi3n1)\n"
      ],
      "metadata": {
        "colab": {
          "base_uri": "https://localhost:8080/"
        },
        "id": "SOemc2hnQ2N9",
        "outputId": "a3f69c88-e265-4be0-e09a-afbd8f4ba37d"
      },
      "execution_count": 10,
      "outputs": [
        {
          "output_type": "stream",
          "name": "stdout",
          "text": [
            "3999.0\n",
            "4000.0\n",
            "4000.0\n",
            "3999.0\n"
          ]
        }
      ]
    },
    {
      "cell_type": "markdown",
      "source": [
        "# Nueva sección"
      ],
      "metadata": {
        "id": "9lF_nL2_CmRV"
      }
    },
    {
      "cell_type": "code",
      "source": [
        "#datos Pn2"
      ],
      "metadata": {
        "id": "68zaK8HqTazV"
      },
      "execution_count": null,
      "outputs": []
    },
    {
      "cell_type": "code",
      "source": [
        "import numpy as np\n"
      ],
      "metadata": {
        "id": "d-hUhf3aBgkf"
      },
      "execution_count": 15,
      "outputs": []
    },
    {
      "cell_type": "code",
      "source": [
        "P=[0, 4000, 4000, 4000, 0] # Condiciones iniciales\n",
        "Nodos =len(P)\n",
        "Nodos2= [0,1,2,3,4]\n",
        "Tiempo= 5000\n",
        "DT= 125\n",
        "dx= 200\n",
        "t=DT\n",
        "Pin=P\n",
        "Pin2=Pin\n",
        "Pdt=[0,0,0,0,0]"
      ],
      "metadata": {
        "id": "WCZH25DmvpMp"
      },
      "execution_count": 52,
      "outputs": []
    },
    {
      "cell_type": "code",
      "source": [
        "def Presdt(P1, P2, P3, Deltat, Deltax):\n",
        "  return (((P1 - 2 * P2 + P3) / Deltax**2) * Deltat) + P2"
      ],
      "metadata": {
        "id": "hRY13sihXDf0"
      },
      "execution_count": 53,
      "outputs": []
    },
    {
      "cell_type": "code",
      "source": [
        "Presdt(P[0],P[1],P[2],DT,dx)"
      ],
      "metadata": {
        "colab": {
          "base_uri": "https://localhost:8080/"
        },
        "id": "YcrsbPpNZr9j",
        "outputId": "33b7422d-af61-4b6c-ec7a-a07f3b6f9dd5"
      },
      "execution_count": 54,
      "outputs": [
        {
          "output_type": "execute_result",
          "data": {
            "text/plain": [
              "3987.5"
            ]
          },
          "metadata": {},
          "execution_count": 54
        }
      ]
    },
    {
      "cell_type": "code",
      "source": [
        "while t<Tiempo:\n",
        "    for i in (Nodos2):\n",
        "      if i==0:\n",
        "        Pdt[i]=P[0]\n",
        "      elif i==len(Nodos2)-1:\n",
        "        Pdt[i]=P[len(Nodos2)-1]\n",
        "      else:\n",
        "        Pdt[i]=Presdt(Pin[i-1],Pin[i],Pin[i+1],DT,dx)\n",
        "    t=t+DT\n",
        "    Pdt=Pin\n",
        "    Pin2=np.append(Pin2,Pdt)"
      ],
      "metadata": {
        "id": "9H4PpzO2D7D3"
      },
      "execution_count": 55,
      "outputs": []
    },
    {
      "cell_type": "code",
      "source": [
        "print(Pin2)"
      ],
      "metadata": {
        "id": "_0-OWl-hGoM3",
        "outputId": "cb5d60b6-dbc8-46d2-be84-8c41a204264e",
        "colab": {
          "base_uri": "https://localhost:8080/"
        }
      },
      "execution_count": 56,
      "outputs": [
        {
          "output_type": "stream",
          "name": "stdout",
          "text": [
            "[   0.         4000.         4000.         4000.            0.\n",
            "    0.         4000.         4000.         4000.            0.\n",
            "    0.         3987.5        3999.9609375  3987.49987793    0.\n",
            "    0.         3975.07800293 3999.84423752 3975.07751693    0.\n",
            "    0.         3962.73327865 3999.65086977 3962.73219142    0.\n",
            "    0.         3950.46510463 3999.38179338 3950.46318333    0.\n",
            "    0.         3938.27276583 3999.03795702 3938.26978205    0.\n",
            "    0.         3926.15555466 3998.62029896 3926.15128435    0.\n",
            "    0.         3914.11277088 3998.12974727 3914.10699428    0.\n",
            "    0.         3902.14372152 3997.56721983 3902.13622313    0.\n",
            "    0.         3890.24772082 3996.93362453 3890.23828931    0.\n",
            "    0.         3878.42409014 3996.22985932 3878.41251831    0.\n",
            "    0.         3866.67215789 3995.45681231 3866.65824261    0.\n",
            "    0.         3854.99125944 3994.61536193 3854.9748016     0.\n",
            "    0.         3843.38073708 3993.70637697 3843.36154152    0.\n",
            "    0.         3831.8399399  3992.73071675 3831.81781537    0.\n",
            "    0.         3820.36822376 3991.68923114 3820.34298287    0.\n",
            "    0.         3808.96495121 3990.58276074 3808.93641036    0.\n",
            "    0.         3797.62949139 3989.41213693 3797.59747072    0.\n",
            "    0.         3786.36122    3988.17818198 3786.32554335    0.\n",
            "    0.         3775.15951919 3986.88170916 3775.12001404    0.\n",
            "    0.         3764.02377754 3985.52352283 3763.98027497    0.\n",
            "    0.         3752.95338994 3984.10441851 3752.90572455    0.\n",
            "    0.         3741.94775756 3982.62518303 3741.89576747    0.\n",
            "    0.         3731.00628777 3981.08659456 3730.94981453    0.\n",
            "    0.         3720.12839408 3979.48942274 3720.06728264    0.\n",
            "    0.         3709.31349607 3977.83442879 3709.24759471    0.\n",
            "    0.         3698.56101931 3976.12236552 3698.49017964    0.\n",
            "    0.         3687.87039533 3974.35397754 3687.7944722     0.\n",
            "    0.         3677.24106154 3972.53000122 3677.159913      0.\n",
            "    0.         3666.67246115 3970.65116488 3666.58594843    0.\n",
            "    0.         3656.16404316 3968.71818882 3656.07203059    0.\n",
            "    0.         3645.71526223 3966.73178543 3645.61761723    0.\n",
            "    0.         3635.32557867 3964.69265926 3635.22217169    0.\n",
            "    0.         3624.99445837 3962.60150711 3624.88516282    0.\n",
            "    0.         3614.72137271 3960.45901812 3614.60606499    0.\n",
            "    0.         3604.50579856 3958.26587383 3604.38435794    0.\n",
            "    0.         3594.34721818 3956.02274829 3594.21952679    0.\n",
            "    0.         3584.24511915 3953.73030813 3584.11106196    0.\n",
            "    0.         3574.19899437 3951.38921263 3574.05845911    0.        ]\n"
          ]
        }
      ]
    }
  ]
}