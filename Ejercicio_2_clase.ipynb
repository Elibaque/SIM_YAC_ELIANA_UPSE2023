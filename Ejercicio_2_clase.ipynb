{
  "nbformat": 4,
  "nbformat_minor": 0,
  "metadata": {
    "colab": {
      "provenance": [],
      "authorship_tag": "ABX9TyMtUQxeoH+hCrNOvC5cjkh/",
      "include_colab_link": true
    },
    "kernelspec": {
      "name": "python3",
      "display_name": "Python 3"
    },
    "language_info": {
      "name": "python"
    }
  },
  "cells": [
    {
      "cell_type": "markdown",
      "metadata": {
        "id": "view-in-github",
        "colab_type": "text"
      },
      "source": [
        "<a href=\"https://colab.research.google.com/github/Elibaque/SIM_YAC_ELIANA_UPSE2023/blob/main/Ejercicio_2_clase.ipynb\" target=\"_parent\"><img src=\"https://colab.research.google.com/assets/colab-badge.svg\" alt=\"Open In Colab\"/></a>"
      ]
    },
    {
      "cell_type": "code",
      "execution_count": 1,
      "metadata": {
        "id": "XkkUs31e9E0L"
      },
      "outputs": [],
      "source": [
        "import numpy  as np \n",
        "import math\n"
      ]
    },
    {
      "cell_type": "code",
      "source": [
        "L=10000\n",
        "dx=2500\n",
        "Tiempo=100000\n",
        "DT=1\n",
        "K=50 #Permeabilidad MD\n",
        "por=0.2\n",
        "vis=1 # centipoise\n",
        "Beta=1\n",
        "CompTotal=1**(-6) #ps1-1\n",
        "A=200000#ft^2"
      ],
      "metadata": {
        "id": "Fl7XOlhx9JJK"
      },
      "execution_count": 2,
      "outputs": []
    },
    {
      "cell_type": "code",
      "source": [
        "Alpha=K/(vis*por*CompTotal)\n",
        "Alpha\n",
        "Eta=(Alpha*DT)/(dx**2)\n",
        "Eta"
      ],
      "metadata": {
        "colab": {
          "base_uri": "https://localhost:8080/"
        },
        "id": "1zrh3jY89NRD",
        "outputId": "fc08a89d-fa06-407f-d031-8d7957793702"
      },
      "execution_count": 3,
      "outputs": [
        {
          "output_type": "execute_result",
          "data": {
            "text/plain": [
              "4e-05"
            ]
          },
          "metadata": {},
          "execution_count": 3
        }
      ]
    },
    {
      "cell_type": "code",
      "source": [
        "#Esquema Explicito \n",
        "def Presdt(P0,P1,P2,Eta):\n",
        "  Pdt=P1+Eta*(P0-2*P1+P2)\n",
        "  return(Pdt)\n",
        "\n",
        "Pexplicita=np.zeros((Tiempo//DT,L//dx))"
      ],
      "metadata": {
        "id": "XMXGnDUj93oo"
      },
      "execution_count": 4,
      "outputs": []
    },
    {
      "cell_type": "code",
      "source": [
        "#Condiciones inicialea \n",
        "Pyac=1000\n",
        "Piz=2000\n",
        "Pder=0\n",
        "Pin=np.ones(L//dx)\n",
        "Pres=np.zeros(L//dx)\n",
        "Pin=Pin*Pyac\n",
        "Pin[0]=Piz\n",
        "Pin[len(Pin)-1]=Pder\n",
        "\n",
        "Pin"
      ],
      "metadata": {
        "colab": {
          "base_uri": "https://localhost:8080/"
        },
        "id": "rHAYVhtJ-S_x",
        "outputId": "109a1c38-22b6-4762-92e4-d80e06a0bb38"
      },
      "execution_count": 5,
      "outputs": [
        {
          "output_type": "execute_result",
          "data": {
            "text/plain": [
              "array([2000., 1000., 1000.,    0.])"
            ]
          },
          "metadata": {},
          "execution_count": 5
        }
      ]
    },
    {
      "cell_type": "code",
      "source": [
        "t=DT\n",
        "Pexplicita[0]=Pin\n",
        "Pexplicita.shape\n",
        "while t<Tiempo:\n",
        "  for i in range(0,len(Pin)-1):\n",
        "    if i==0:\n",
        "      Pres[i]=Pin[0]\n",
        "    elif i==len(Pin)-1:\n",
        "      Pres[i]=Pin[len(Pin)-1]\n",
        "    else:\n",
        "      Pres[i]=Presdt(Pin[i-1],Pin[i],Pin[i+1],Eta)\n",
        "    Pexplicita[t//DT]=Pres\n",
        "    t=t+DT\n",
        "    Pin=Pres   "
      ],
      "metadata": {
        "id": "gXFaaJpJ-VKh"
      },
      "execution_count": 6,
      "outputs": []
    },
    {
      "cell_type": "code",
      "source": [
        "print(Pexplicita)"
      ],
      "metadata": {
        "colab": {
          "base_uri": "https://localhost:8080/"
        },
        "id": "W1yXl5uq-unU",
        "outputId": "59dedfa8-18a8-4850-8d73-dc46e06dd043"
      },
      "execution_count": 7,
      "outputs": [
        {
          "output_type": "stream",
          "name": "stdout",
          "text": [
            "[[2.00000000e+03 1.00000000e+03 1.00000000e+03 0.00000000e+00]\n",
            " [2.00000000e+03 0.00000000e+00 0.00000000e+00 0.00000000e+00]\n",
            " [2.00000000e+03 8.00000000e-02 0.00000000e+00 0.00000000e+00]\n",
            " ...\n",
            " [2.00000000e+03 1.06363098e+03 4.09179647e+02 0.00000000e+00]\n",
            " [2.00000000e+03 1.06364226e+03 4.09179647e+02 0.00000000e+00]\n",
            " [2.00000000e+03 1.06364226e+03 4.09189459e+02 0.00000000e+00]]\n"
          ]
        }
      ]
    },
    {
      "cell_type": "code",
      "source": [
        "Pimplicita=np.zeros((Tiempo//DT,L//dx))\n",
        "#Condiciones inicialea \n",
        "#Condiciones inicialea \n",
        "Pyac=1000\n",
        "Piz=2000\n",
        "Pder=0\n",
        "\n",
        "Pin=np.ones(L//dx)\n",
        "Pres=np.zeros(L//dx)\n",
        "Pin=Pin*Pyac\n",
        "Pin[0]=Piz\n",
        "Pin[len(Pin)-1]=Pder\n",
        "N=L//dx\n",
        "Matriz_resolucion=np.zeros((N-2,N-2))"
      ],
      "metadata": {
        "id": "Mwrd_-D8Eo9Y"
      },
      "execution_count": 8,
      "outputs": []
    },
    {
      "cell_type": "code",
      "source": [
        "for i in range(N-2): #por el valor de los nos que se resta 2 por la frontera no se toma en cuenta\n",
        "   Matriz_resolucion[i,i]= 1+2*Eta #los diagonales son iguales por eso va i,i= se llenan estos valores\n",
        "   if i>0: #si vale cero\n",
        "    Matriz_resolucion[i,i-1]=-Eta # casillas de la izquierda\n",
        "   if i<(N-3): #Porque no hay valores a la derecha \n",
        "    Matriz_resolucion[i,i+1]=-Eta # casilla derecha de la diagonal\n"
      ],
      "metadata": {
        "id": "CKWYj8UMFZwh"
      },
      "execution_count": 9,
      "outputs": []
    },
    {
      "cell_type": "code",
      "source": [
        "Pcal=np.zeros([N-2])\n",
        "Pcal=np.linalg.solve(Matriz_resolucion,Pin[1:-1])\n"
      ],
      "metadata": {
        "id": "3l0SCHDPFrEG"
      },
      "execution_count": 10,
      "outputs": []
    },
    {
      "cell_type": "code",
      "source": [
        "Pimplicita[0]=Pin\n",
        "t=DT\n",
        "while t<Tiempo:\n",
        "  Pcal=np.linalg.solve(Matriz_resolucion,Pin[1:-1])\n",
        "  Press=np.concatenate(( [Piz],Pcal),[Pder])\n",
        "  Pimplicita\n"
      ],
      "metadata": {
        "id": "b2rAA9yfNqKq"
      },
      "execution_count": null,
      "outputs": []
    }
  ]
}