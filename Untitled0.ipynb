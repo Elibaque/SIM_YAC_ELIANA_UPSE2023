{
  "nbformat": 4,
  "nbformat_minor": 0,
  "metadata": {
    "colab": {
      "provenance": [],
      "toc_visible": true,
      "authorship_tag": "ABX9TyMV5kiKBLoH4wYOx/sX/6TC",
      "include_colab_link": true
    },
    "kernelspec": {
      "name": "python3",
      "display_name": "Python 3"
    },
    "language_info": {
      "name": "python"
    }
  },
  "cells": [
    {
      "cell_type": "markdown",
      "metadata": {
        "id": "view-in-github",
        "colab_type": "text"
      },
      "source": [
        "<a href=\"https://colab.research.google.com/github/Elibaque/SIM_YAC_ELIANA_UPSE2023/blob/main/Untitled0.ipynb\" target=\"_parent\"><img src=\"https://colab.research.google.com/assets/colab-badge.svg\" alt=\"Open In Colab\"/></a>"
      ]
    },
    {
      "cell_type": "code",
      "execution_count": 1,
      "metadata": {
        "id": "VbvKQVow9iDc"
      },
      "outputs": [],
      "source": [
        "#Hola"
      ]
    },
    {
      "cell_type": "code",
      "source": [
        "def calcular(base, altura):\n",
        "  return base*altura\n"
      ],
      "metadata": {
        "id": "Xp88Z4W-G633"
      },
      "execution_count": 2,
      "outputs": []
    },
    {
      "cell_type": "code",
      "source": [
        "calcular(10, 5)\n"
      ],
      "metadata": {
        "colab": {
          "base_uri": "https://localhost:8080/"
        },
        "id": "ph7fkQenIsnF",
        "outputId": "ad2f70c0-7bc7-4e8d-e517-79c8abd4b226"
      },
      "execution_count": 3,
      "outputs": [
        {
          "output_type": "execute_result",
          "data": {
            "text/plain": [
              "50"
            ]
          },
          "metadata": {},
          "execution_count": 3
        }
      ]
    },
    {
      "cell_type": "markdown",
      "source": [
        "FORMULA DE LA ECUACION DE LA DIFUSIVIDAD"
      ],
      "metadata": {
        "id": "Oa7G-YSXO4WN"
      }
    },
    {
      "cell_type": "code",
      "source": [
        "P0 = 0\n",
        "Pi1 = 4000\n",
        "Pa2 = 4000\n",
        "Pb3 = 4000\n",
        "Pc4 = 4000\n",
        "Pd5 = 0\n",
        "Deltat= 10\n",
        "Deltax= 200"
      ],
      "metadata": {
        "id": "DeoPY7MwPRtY"
      },
      "execution_count": 14,
      "outputs": []
    },
    {
      "cell_type": "code",
      "source": [
        "#Datos Pn1"
      ],
      "metadata": {
        "id": "uyV8jNQUQsfd"
      },
      "execution_count": 15,
      "outputs": []
    },
    {
      "cell_type": "code",
      "source": [
        "def funcion(P0, Pi1, Pa2, Pb3, Pc4, Pd5, Deltat, Deltax):\n",
        "  return (((P0 - 2 * Pi1 + Pa2) / Deltax**2) * Deltat) + Pi1"
      ],
      "metadata": {
        "id": "lTdk8vYbP4c7"
      },
      "execution_count": 16,
      "outputs": []
    },
    {
      "cell_type": "code",
      "source": [
        "Pn1 = funcion(P0, Pi1, Pa2, Pb3, Pc4, Pd5, Deltat, Deltax)\n",
        "print(Pn1)"
      ],
      "metadata": {
        "colab": {
          "base_uri": "https://localhost:8080/"
        },
        "id": "SOemc2hnQ2N9",
        "outputId": "4bb6a57c-75e8-4fa2-915f-f2f7fdf1dcca"
      },
      "execution_count": 17,
      "outputs": [
        {
          "output_type": "stream",
          "name": "stdout",
          "text": [
            "3999.0\n"
          ]
        }
      ]
    },
    {
      "cell_type": "markdown",
      "source": [
        "Hallar Presion inicial 2"
      ],
      "metadata": {
        "id": "fxpIiT_4aonB"
      }
    },
    {
      "cell_type": "code",
      "source": [
        "#datos Pn2"
      ],
      "metadata": {
        "id": "68zaK8HqTazV"
      },
      "execution_count": 18,
      "outputs": []
    },
    {
      "cell_type": "code",
      "source": [
        "def funcion1(P0, Pi1, Pa2, Pb3, Pc4, Pd5, Deltat, Deltax):\n",
        "  return (((Pi1 - 2 * Pa2 + Pb3) / Deltax**2) * Deltat) + Pa2"
      ],
      "metadata": {
        "id": "hRY13sihXDf0"
      },
      "execution_count": 19,
      "outputs": []
    },
    {
      "cell_type": "code",
      "source": [
        "Pn2 = funcion1(P0, Pi1, Pa2, Pb3, Pc4, Pd5, Deltat, Deltax)\n",
        "print(Pn2)"
      ],
      "metadata": {
        "colab": {
          "base_uri": "https://localhost:8080/"
        },
        "id": "YcrsbPpNZr9j",
        "outputId": "12e6f8e9-1776-4a4c-eb8b-0a54d8fffc73"
      },
      "execution_count": 20,
      "outputs": [
        {
          "output_type": "stream",
          "name": "stdout",
          "text": [
            "4000.0\n"
          ]
        }
      ]
    },
    {
      "cell_type": "markdown",
      "source": [
        "Hallar Presion Inicial 3"
      ],
      "metadata": {
        "id": "_SgEZ8uDb4pA"
      }
    },
    {
      "cell_type": "code",
      "source": [
        "#datos Pn3"
      ],
      "metadata": {
        "id": "O368erhDb0gA"
      },
      "execution_count": 21,
      "outputs": []
    },
    {
      "cell_type": "code",
      "source": [
        "def funcion2(P0, Pi1, Pa2, Pb3, Pc4, Pd5, Deltat, Deltax):\n",
        "  return (((Pa2 - 2 * Pb3 + Pc4) / Deltax**2) * Deltat) + Pb3"
      ],
      "metadata": {
        "id": "ewJGmEoGb9PB"
      },
      "execution_count": 24,
      "outputs": []
    },
    {
      "cell_type": "code",
      "source": [
        "Pn3 = funcion2(P0, Pi1, Pa2, Pb3, Pc4, Pd5, Deltat, Deltax)\n",
        "print(Pn3)"
      ],
      "metadata": {
        "colab": {
          "base_uri": "https://localhost:8080/"
        },
        "id": "l-cz158ccvuW",
        "outputId": "50ec8333-6a02-4860-fa6d-f3f6758c70c9"
      },
      "execution_count": 23,
      "outputs": [
        {
          "output_type": "stream",
          "name": "stdout",
          "text": [
            "4000.0\n"
          ]
        }
      ]
    },
    {
      "cell_type": "markdown",
      "source": [
        "Hallar Presion Inicial 4"
      ],
      "metadata": {
        "id": "Wgq3pkoTeeU9"
      }
    },
    {
      "cell_type": "code",
      "source": [
        "#datos Pn4"
      ],
      "metadata": {
        "id": "cWuuUG_Bdj9p"
      },
      "execution_count": 25,
      "outputs": []
    },
    {
      "cell_type": "code",
      "source": [
        "def funcion3(P0, Pi1, Pa2, Pb3, Pc4, Pd5, Deltat, Deltax):\n",
        "  return (((Pb3 - 2 * Pc4 + Pd5) / Deltax**2) * Deltat) + Pc4"
      ],
      "metadata": {
        "id": "z-RPW-ILeu4F"
      },
      "execution_count": 27,
      "outputs": []
    },
    {
      "cell_type": "code",
      "source": [
        "Pn4 = funcion3(P0, Pi1, Pa2, Pb3, Pc4, Pd5, Deltat, Deltax)\n",
        "print(Pn4)"
      ],
      "metadata": {
        "colab": {
          "base_uri": "https://localhost:8080/"
        },
        "id": "sK-ORnubfR3O",
        "outputId": "912ff22d-a165-440c-ae2a-c13202e368d7"
      },
      "execution_count": 29,
      "outputs": [
        {
          "output_type": "stream",
          "name": "stdout",
          "text": [
            "3999.0\n"
          ]
        }
      ]
    }
  ]
}