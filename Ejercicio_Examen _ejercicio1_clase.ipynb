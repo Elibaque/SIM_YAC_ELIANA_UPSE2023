{
  "nbformat": 4,
  "nbformat_minor": 0,
  "metadata": {
    "colab": {
      "provenance": [],
      "authorship_tag": "ABX9TyO2KSqrscFbjVqKMgACyjVQ",
      "include_colab_link": true
    },
    "kernelspec": {
      "name": "python3",
      "display_name": "Python 3"
    },
    "language_info": {
      "name": "python"
    }
  },
  "cells": [
    {
      "cell_type": "markdown",
      "metadata": {
        "id": "view-in-github",
        "colab_type": "text"
      },
      "source": [
        "<a href=\"https://colab.research.google.com/github/Elibaque/SIM_YAC_ELIANA_UPSE2023/blob/main/Ejercicio_Examen%20_ejercicio1_clase.ipynb\" target=\"_parent\"><img src=\"https://colab.research.google.com/assets/colab-badge.svg\" alt=\"Open In Colab\"/></a>"
      ]
    },
    {
      "cell_type": "code",
      "execution_count": 1,
      "metadata": {
        "id": "XkkUs31e9E0L"
      },
      "outputs": [],
      "source": [
        "import numpy  as np\n",
        "import math\n"
      ]
    },
    {
      "cell_type": "code",
      "source": [
        "#Datos del yacimiento\n",
        "L=30000\n",
        "dx=15000\n",
        "Tiempo=100\n",
        "DT=1\n",
        "K=50 #Permeabilidad MD\n",
        "por=0.5\n",
        "vis=1 # centipoise\n",
        "B=0.7 #Factor volumetrico rb/stb\n",
        "CompTotal=1.2*10**(-6) #ps1-1\n",
        "A=200000#ft^2"
      ],
      "metadata": {
        "id": "Fl7XOlhx9JJK"
      },
      "execution_count": 2,
      "outputs": []
    },
    {
      "cell_type": "code",
      "source": [
        "Alpha=K/(vis*por*CompTotal)\n",
        "Alpha\n",
        "Eta=(Alpha*DT)/(dx**2)\n",
        "Eta"
      ],
      "metadata": {
        "colab": {
          "base_uri": "https://localhost:8080/"
        },
        "id": "1zrh3jY89NRD",
        "outputId": "3f97de4f-7433-4795-bdca-5616cd84cc31"
      },
      "execution_count": 3,
      "outputs": [
        {
          "output_type": "execute_result",
          "data": {
            "text/plain": [
              "0.3703703703703704"
            ]
          },
          "metadata": {},
          "execution_count": 3
        }
      ]
    },
    {
      "cell_type": "code",
      "source": [
        "Alpha"
      ],
      "metadata": {
        "colab": {
          "base_uri": "https://localhost:8080/"
        },
        "id": "tt9gFkaERmoE",
        "outputId": "39d6f22a-3e8c-4162-bb0f-726da17c64fc"
      },
      "execution_count": 4,
      "outputs": [
        {
          "output_type": "execute_result",
          "data": {
            "text/plain": [
              "83333333.33333334"
            ]
          },
          "metadata": {},
          "execution_count": 4
        }
      ]
    },
    {
      "cell_type": "code",
      "source": [
        "#Crear matriz que guarda los valores del esquema Explicito\n",
        "Pexplicita=np.zeros((Tiempo//DT,(L//dx)+2))#Al colocar 2 veces el // se obtiene una division exacta\n",
        "Qexplicita=np.zeros((Tiempo//DT,(L//dx)))"
      ],
      "metadata": {
        "id": "XMXGnDUj93oo"
      },
      "execution_count": 5,
      "outputs": []
    },
    {
      "cell_type": "code",
      "source": [],
      "metadata": {
        "id": "Y3OCpsvvZ9Bv"
      },
      "execution_count": 5,
      "outputs": []
    },
    {
      "cell_type": "code",
      "source": [
        "#Condiciones iniciales\n",
        "P0=2000 #Presion en el nodo cero\n",
        "PB1=7000 #Presion en el borde 1\n",
        "P1=2*PB1-P0\n",
        "Piz=0 #Presion izquierda\n",
        "Pder=0 #Presion derecha\n",
        "N=((L//dx)+2)\n",
        "Pin=np.zeros(N) #Vector inicial creado  de 1 para poder ingresar la presion de yacimiento\n",
        "Pres=np.zeros(N) #Vector inicial vacio para colocar los resultados\n",
        "for i in range(0,len(Pin)-1): # se encarga de llenar los datos del espacio\n",
        "  Pin[i]=P1\n",
        "  Pin[0]=Piz\n",
        "  Pin[1]=P0\n",
        "  Pin[len(Pin)-1]=2*Pder-Pin[len(Pin)-2]\n",
        "Pin=Pin\n",
        "Pin"
      ],
      "metadata": {
        "colab": {
          "base_uri": "https://localhost:8080/"
        },
        "id": "rHAYVhtJ-S_x",
        "outputId": "70c91f0f-d346-4d5a-bec4-85b4ae202859"
      },
      "execution_count": 6,
      "outputs": [
        {
          "output_type": "execute_result",
          "data": {
            "text/plain": [
              "array([     0.,   2000.,  12000., -12000.])"
            ]
          },
          "metadata": {},
          "execution_count": 6
        }
      ]
    },
    {
      "cell_type": "code",
      "source": [
        "Baccumul=(A*dx*por*CompTotal)/B # volumen acumulado formula\n",
        "Transmisibilidad=(K*A/(vis*B*dx))*6.33*10**-3# formulta de la transmisibilidadad con factor de correccion por las diferentes unidades\n",
        "Bc=np.zeros([N-2,N-2])#vector en cero de el volumen acumulado donde se ingresan los valores de acuerdo a las condiciones\n",
        "Tr=np.zeros([N-2,N-2])#vector en cero de el volumen acumulado donde se ingresan los valores de transmisiblidad de acuerdo a las condiciones\n",
        "Bc"
      ],
      "metadata": {
        "id": "OXH5wRV5uI7R",
        "outputId": "2d439fe6-2440-483f-c25b-b1406cc4762c",
        "colab": {
          "base_uri": "https://localhost:8080/"
        }
      },
      "execution_count": 7,
      "outputs": [
        {
          "output_type": "execute_result",
          "data": {
            "text/plain": [
              "array([[0., 0.],\n",
              "       [0., 0.]])"
            ]
          },
          "metadata": {},
          "execution_count": 7
        }
      ]
    },
    {
      "cell_type": "code",
      "source": [
        "Tr"
      ],
      "metadata": {
        "id": "NXn0ir7GxbuH",
        "outputId": "ca471f05-2f8e-4a0a-f69e-d3f0df255581",
        "colab": {
          "base_uri": "https://localhost:8080/"
        }
      },
      "execution_count": 8,
      "outputs": [
        {
          "output_type": "execute_result",
          "data": {
            "text/plain": [
              "array([[0., 0.],\n",
              "       [0., 0.]])"
            ]
          },
          "metadata": {},
          "execution_count": 8
        }
      ]
    },
    {
      "cell_type": "code",
      "source": [
        "#Caracteristicas de la matriz de Volumen acumulado\n",
        "for i in range(0,N-2):\n",
        "  Bc[i,i]= Baccumul#Solo cuando i=i va a tener el mismo valor que el volumenacumulado\n",
        " #Caracteristicas de la matriz de la transmisibilidad\n",
        "for i in range(0,N-2):\n",
        "  Tr[i,i]=2*Transmisibilidad#Solo cuando i=i va a tener el valor del doble de transmisibilidad\n",
        "  if i>0: #siempre y cuando i se encuentre en la posicion mayor a 0\n",
        "    Tr[i,i-1]=-Transmisibilidad#Los valores de la derecha cuando i=i van a ser la transmisibilidad negativa\n",
        "  if i<(N-3): #siempre y cuando i se encuentre en la posicion mayor a N-3\n",
        "    Tr[i,i+1]=-Transmisibilidad  #Los valores de la izquierda cuando i=i van a ser la transmisibilidad negativa\n",
        "Tr[0,0]=(1+2*Eta)*Transmisibilidad # Cuando se encuentren en la posicion 0,0 va a vales tres veces la transmisibilidad\n",
        "Tr[N-3,N-3]=(1+2*Eta)*Transmisibilidad # Cuando se encuentren en la posicion N-3,N-3 va a ser igual a la transmisibilidad\n",
        "Tr=Tr\n",
        "Bc"
      ],
      "metadata": {
        "id": "N9caB8G40EsN",
        "colab": {
          "base_uri": "https://localhost:8080/"
        },
        "outputId": "77f41ecc-922b-4fd1-cfd2-7fd66685a7a5"
      },
      "execution_count": 9,
      "outputs": [
        {
          "output_type": "execute_result",
          "data": {
            "text/plain": [
              "array([[2571.42857143,    0.        ],\n",
              "       [   0.        , 2571.42857143]])"
            ]
          },
          "metadata": {},
          "execution_count": 9
        }
      ]
    },
    {
      "cell_type": "code",
      "source": [
        "#Respecto a la presion\n",
        "Matriz_resolucion=np.zeros_like(Tr) # se crea matriz del tamaño del T\n",
        "Vector_sol=np.zeros_like(Pin[1:-1])# Se indica donde empieza y hasta donde termina la matriz en ceros\n",
        "Vector_sol=np.matmul(Tr,Pin[1:-1])\n",
        "#Respecto al caudal\n",
        "Q=np.zeros_like(Vector_sol)# se crea matriz del tamaño del Vector_sol\n",
        "Q[0]=2*Eta*Transmisibilidad*Piz # se coloca la condicion cuando Q se encuentre en el nodo cero\n",
        "Matriz_resolucion=Q-Vector_sol\n",
        "Matriz_resolucion=np.matmul(DT/Bc,Matriz_resolucion)\n",
        "Pcal= (Pin[1:-1]+ Matriz_resolucion) #Aplicacion de una parte de la ecuacion del esquema implicito"
      ],
      "metadata": {
        "id": "WO7Jw01m3h4A",
        "outputId": "82536f6d-9bb9-47f1-d81e-55b88bdc4009",
        "colab": {
          "base_uri": "https://localhost:8080/"
        }
      },
      "execution_count": 10,
      "outputs": [
        {
          "output_type": "stream",
          "name": "stderr",
          "text": [
            "<ipython-input-10-2019f623cc1a>:9: RuntimeWarning: divide by zero encountered in true_divide\n",
            "  Matriz_resolucion=np.matmul(DT/Bc,Matriz_resolucion)\n"
          ]
        }
      ]
    },
    {
      "cell_type": "code",
      "source": [
        "Q"
      ],
      "metadata": {
        "id": "Lk7BgdhWJPan",
        "outputId": "04b63e60-acd9-4330-9fe9-5dfd4a592d5c",
        "colab": {
          "base_uri": "https://localhost:8080/"
        }
      },
      "execution_count": 11,
      "outputs": [
        {
          "output_type": "execute_result",
          "data": {
            "text/plain": [
              "array([0., 0.])"
            ]
          },
          "metadata": {},
          "execution_count": 11
        }
      ]
    },
    {
      "cell_type": "code",
      "source": [
        "Qexplicita[0]=Q\n",
        "t=DT\n",
        "while t<Tiempo:\n",
        "  Pcal= (Pin[1:-1]+ Matriz_resolucion)\n",
        "  Pres=np.concatenate(([Piz],Pcal,[Pder]))\n",
        "  Pexplicita[t//DT]=Pres\n",
        "  Vector_sol=np.matmul(-Tr,Pcal)+Q\n",
        "  Qexplicita[t//DT]=Vector_sol\n",
        "  t=t+DT"
      ],
      "metadata": {
        "id": "S22gCqppJh_2"
      },
      "execution_count": 12,
      "outputs": []
    },
    {
      "cell_type": "code",
      "source": [
        "import matplotlib.pyplot as plt\n",
        "imgplot = plt.imshow(Pexplicita,aspect='auto')\n",
        "plt.colorbar()"
      ],
      "metadata": {
        "colab": {
          "base_uri": "https://localhost:8080/",
          "height": 452
        },
        "id": "AotwBhAvXzwr",
        "outputId": "41618be5-814e-4928-a992-f1442e956858"
      },
      "execution_count": 13,
      "outputs": [
        {
          "output_type": "execute_result",
          "data": {
            "text/plain": [
              "<matplotlib.colorbar.Colorbar at 0x7fdc0c3a78b0>"
            ]
          },
          "metadata": {},
          "execution_count": 13
        },
        {
          "output_type": "display_data",
          "data": {
            "text/plain": [
              "<Figure size 640x480 with 2 Axes>"
            ],
            "image/png": "[encoded data removed]"
          },
          "metadata": {}
        }
      ]
    },
    {
      "cell_type": "code",
      "source": [
        "import matplotlib.pyplot as plt\n",
        "imgplot = plt.imshow(Qexplicita,aspect='auto')\n",
        "plt.colorbar()"
      ],
      "metadata": {
        "id": "xeIVT8J6n8A7",
        "outputId": "2a04409e-d913-4384-c21f-350bec7c6717",
        "colab": {
          "base_uri": "https://localhost:8080/",
          "height": 452
        }
      },
      "execution_count": 14,
      "outputs": [
        {
          "output_type": "execute_result",
          "data": {
            "text/plain": [
              "<matplotlib.colorbar.Colorbar at 0x7fdc0c14be20>"
            ]
          },
          "metadata": {},
          "execution_count": 14
        },
        {
          "output_type": "display_data",
          "data": {
            "text/plain": [
              "<Figure size 640x480 with 2 Axes>"
            ],
            "image/png": "[encoded data removed]"
          },
          "metadata": {}
        }
      ]
    }
  ]
}