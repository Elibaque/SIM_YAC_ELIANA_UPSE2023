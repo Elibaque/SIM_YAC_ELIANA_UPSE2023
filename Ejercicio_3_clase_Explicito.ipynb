{
  "nbformat": 4,
  "nbformat_minor": 0,
  "metadata": {
    "colab": {
      "provenance": [],
      "authorship_tag": "ABX9TyPFK94/yv5subj1joNtvn4E",
      "include_colab_link": true
    },
    "kernelspec": {
      "name": "python3",
      "display_name": "Python 3"
    },
    "language_info": {
      "name": "python"
    }
  },
  "cells": [
    {
      "cell_type": "markdown",
      "metadata": {
        "id": "view-in-github",
        "colab_type": "text"
      },
      "source": [
        "<a href=\"https://colab.research.google.com/github/Elibaque/SIM_YAC_ELIANA_UPSE2023/blob/main/Ejercicio_3_clase_Explicito.ipynb\" target=\"_parent\"><img src=\"https://colab.research.google.com/assets/colab-badge.svg\" alt=\"Open In Colab\"/></a>"
      ]
    },
    {
      "cell_type": "code",
      "execution_count": 1,
      "metadata": {
        "id": "XkkUs31e9E0L"
      },
      "outputs": [],
      "source": [
        "import numpy  as np # Llamar a las bibliotecas a utilizar\n",
        "import math\n"
      ]
    },
    {
      "cell_type": "code",
      "source": [
        "# Datos del Yacimiento\n",
        "L=10000\n",
        "dx=2500\n",
        "Tiempo=100000\n",
        "DT=1\n",
        "K=50 #Permeabilidad MD\n",
        "por=0.2\n",
        "vis=1 # centipoise\n",
        "Beta=1\n",
        "CompTotal=10**(-6) #ps1-1\n",
        "A=200000#ft^2"
      ],
      "metadata": {
        "id": "Fl7XOlhx9JJK"
      },
      "execution_count": 2,
      "outputs": []
    },
    {
      "cell_type": "markdown",
      "source": [
        "#Esquema Explicito - Resolucion"
      ],
      "metadata": {
        "id": "IyUBH1G46oBF"
      }
    },
    {
      "cell_type": "code",
      "source": [
        "#Calcular Alfa con la formula respectiva\n",
        "Alpha=K/(vis*por*CompTotal)\n",
        "Alpha\n",
        "#Calcular Eta con la formula respectiva\n",
        "Eta=(Alpha*DT)/(dx**2)"
      ],
      "metadata": {
        "id": "1zrh3jY89NRD"
      },
      "execution_count": 3,
      "outputs": []
    },
    {
      "cell_type": "code",
      "source": [
        "Eta"
      ],
      "metadata": {
        "id": "j3vOOqfkhFmy",
        "outputId": "9c21fd05-0f98-430f-9726-393bc5eab00e",
        "colab": {
          "base_uri": "https://localhost:8080/"
        }
      },
      "execution_count": 4,
      "outputs": [
        {
          "output_type": "execute_result",
          "data": {
            "text/plain": [
              "40.0"
            ]
          },
          "metadata": {},
          "execution_count": 4
        }
      ]
    },
    {
      "cell_type": "code",
      "source": [
        "#Esquema Explicito\n",
        "def Presdt(P0,P1,P2,Eta):\n",
        "  Pdt=P1+Eta*(P0-2*P1+P2)\n",
        "  return(Pdt)\n",
        "#Crear matriz que guarda los valores del esquema Explicito\n",
        "Pexplicita=np.zeros((Tiempo//DT,(L//dx)+2)) #Al colocar 2 veces el // se obtiene una division exacta por ende no necesita usar math_floor"
      ],
      "metadata": {
        "id": "XMXGnDUj93oo"
      },
      "execution_count": 5,
      "outputs": []
    },
    {
      "cell_type": "code",
      "source": [
        "#Condiciones iniciales\n",
        "Pyac=1000\n",
        "Piz=500 #Presion Izquierda\n",
        "Pder=0 #Presion derecha\n",
        "Pin=np.ones((L//dx)+2) # se crea un vector (1) de acuerdo al numero de nodos\n",
        "Pres=np.zeros((L//dx)+2) # se crea un vector vacio para colocar los resultados\n",
        "Pin=Pin*Pyac #Vector de 1 se multiplica para la presion de yacimiento y de esta manera se llenan los datos\n",
        "Pin[0]=2*Piz-Pin[1]\n",
        "Pin[len(Pin)-1]=2*Pder-Pin[len(Pin)-2]\n",
        "\n",
        "Pin"
      ],
      "metadata": {
        "colab": {
          "base_uri": "https://localhost:8080/"
        },
        "id": "rHAYVhtJ-S_x",
        "outputId": "b5d27b2a-7834-4f55-8872-3b220b20b605"
      },
      "execution_count": 6,
      "outputs": [
        {
          "output_type": "execute_result",
          "data": {
            "text/plain": [
              "array([    0.,  1000.,  1000.,  1000.,  1000., -1000.])"
            ]
          },
          "metadata": {},
          "execution_count": 6
        }
      ]
    },
    {
      "cell_type": "code",
      "source": [
        "t=DT\n",
        "Pexplicita[0]=Pin\n",
        "while t<Tiempo:# se encarga de ir llenando los datos de los tiempos\n",
        "  for i in range(0,len(Pin)-1): # se encarga de llenar los datos del espacio\n",
        "    if i==0: #Condicion inicial cuando i vale 0\n",
        "      Pres[i]=2*Piz-Pin[1]\n",
        "    elif i==len(Pin)-1: # Condicion, el valor final del numero de nodos del vector se considerara menos un nodo de acuerdo a python\n",
        "      Pres[i]=2*Pder-Pin[len(Pin)-2]\n",
        "    else:\n",
        "      Pres[i]=Presdt(Pin[i-1],Pin[i],Pin[i+1],Eta)# Se llama a la funcion\n",
        "  Pexplicita[t//DT]=Pres # Con esta condicion se obtiene el indice de la fila\n",
        "  t=t+DT# se cambia la condicion para calcular la siguiente fila y seguir con el ciclo\n",
        "  Pin=Pres"
      ],
      "metadata": {
        "id": "gXFaaJpJ-VKh",
        "outputId": "fda5a28d-2c7a-4717-9a6e-995dac75f953",
        "colab": {
          "base_uri": "https://localhost:8080/"
        }
      },
      "execution_count": 7,
      "outputs": [
        {
          "output_type": "stream",
          "name": "stderr",
          "text": [
            "<ipython-input-5-184ba68d2609>:3: RuntimeWarning: overflow encountered in double_scalars\n",
            "  Pdt=P1+Eta*(P0-2*P1+P2)\n",
            "<ipython-input-5-184ba68d2609>:3: RuntimeWarning: invalid value encountered in double_scalars\n",
            "  Pdt=P1+Eta*(P0-2*P1+P2)\n"
          ]
        }
      ]
    },
    {
      "cell_type": "code",
      "source": [
        "Pexplicita\n"
      ],
      "metadata": {
        "colab": {
          "base_uri": "https://localhost:8080/"
        },
        "id": "W1yXl5uq-unU",
        "outputId": "42c9d2ca-e354-4d0a-ddb8-685263b9771e"
      },
      "execution_count": 11,
      "outputs": [
        {
          "output_type": "execute_result",
          "data": {
            "text/plain": [
              "array([[ 0.00000000e+00,  1.00000000e+03,  1.00000000e+03,\n",
              "         1.00000000e+03,  1.00000000e+03, -1.00000000e+03],\n",
              "       [ 0.00000000e+00, -3.90000000e+04,  1.00000000e+03,\n",
              "         1.00000000e+03, -7.90000000e+04,  0.00000000e+00],\n",
              "       [ 4.00000000e+04,  4.72100000e+06,  1.88801000e+08,\n",
              "         7.54880100e+09,  3.01958281e+11,  0.00000000e+00],\n",
              "       ...,\n",
              "       [            nan,             nan,             nan,\n",
              "                    nan,             nan,  0.00000000e+00],\n",
              "       [            nan,             nan,             nan,\n",
              "                    nan,             nan,  0.00000000e+00],\n",
              "       [            nan,             nan,             nan,\n",
              "                    nan,             nan,  0.00000000e+00]])"
            ]
          },
          "metadata": {},
          "execution_count": 11
        }
      ]
    },
    {
      "cell_type": "code",
      "source": [
        "import matplotlib.pyplot as plt\n",
        "\n",
        "imgplot = plt.imshow(Pexplicita,aspect='auto')\n",
        "plt.colorbar()\n"
      ],
      "metadata": {
        "id": "0a7o07Ooq3X1",
        "outputId": "3275e8a4-e144-4aed-df0f-1059fd258326",
        "colab": {
          "base_uri": "https://localhost:8080/",
          "height": 462
        }
      },
      "execution_count": 12,
      "outputs": [
        {
          "output_type": "execute_result",
          "data": {
            "text/plain": [
              "<matplotlib.colorbar.Colorbar at 0x7f42a9511cf0>"
            ]
          },
          "metadata": {},
          "execution_count": 12
        },
        {
          "output_type": "display_data",
          "data": {
            "text/plain": [
              "<Figure size 640x480 with 2 Axes>"
            ],
            "image/png": "[encoded data removed]"
          },
          "metadata": {}
        }
      ]
    }
  ]
}