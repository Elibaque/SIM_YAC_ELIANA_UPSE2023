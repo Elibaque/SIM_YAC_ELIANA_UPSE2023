{
  "nbformat": 4,
  "nbformat_minor": 0,
  "metadata": {
    "colab": {
      "provenance": [],
      "authorship_tag": "ABX9TyN7pzBlJhJ7lOu/q9ZVzJxU",
      "include_colab_link": true
    },
    "kernelspec": {
      "name": "python3",
      "display_name": "Python 3"
    },
    "language_info": {
      "name": "python"
    }
  },
  "cells": [
    {
      "cell_type": "markdown",
      "metadata": {
        "id": "view-in-github",
        "colab_type": "text"
      },
      "source": [
        "<a href=\"https://colab.research.google.com/github/Elibaque/SIM_YAC_ELIANA_UPSE2023/blob/main/Ejercicio_3_clase_Explicito.ipynb\" target=\"_parent\"><img src=\"https://colab.research.google.com/assets/colab-badge.svg\" alt=\"Open In Colab\"/></a>"
      ]
    },
    {
      "cell_type": "code",
      "execution_count": 1,
      "metadata": {
        "id": "XkkUs31e9E0L"
      },
      "outputs": [],
      "source": [
        "import numpy  as np # Llamar a las bibliotecas a utilizar\n",
        "import math\n"
      ]
    },
    {
      "cell_type": "code",
      "source": [
        "# Datos del Yacimiento\n",
        "L=10000\n",
        "dx=2500\n",
        "Tiempo=100000\n",
        "DT=1\n",
        "K=50 #Permeabilidad MD\n",
        "por=0.2\n",
        "vis=1 # centipoise\n",
        "Beta=1\n",
        "CompTotal=10**(-6) #ps1-1\n",
        "A=200000#ft^2"
      ],
      "metadata": {
        "id": "Fl7XOlhx9JJK"
      },
      "execution_count": 2,
      "outputs": []
    },
    {
      "cell_type": "markdown",
      "source": [
        "#Esquema Explicito - Resolucion"
      ],
      "metadata": {
        "id": "IyUBH1G46oBF"
      }
    },
    {
      "cell_type": "code",
      "source": [
        "#Calcular Alfa con la formula respectiva\n",
        "Alpha=K/(vis*por*CompTotal)\n",
        "Alpha\n",
        "#Calcular Eta con la formula respectiva\n",
        "Eta=(Alpha*DT)/(dx**2)"
      ],
      "metadata": {
        "id": "1zrh3jY89NRD"
      },
      "execution_count": 3,
      "outputs": []
    },
    {
      "cell_type": "code",
      "source": [
        "Eta"
      ],
      "metadata": {
        "id": "j3vOOqfkhFmy",
        "outputId": "048419e5-bead-4a97-a912-a9e8a20a4bee",
        "colab": {
          "base_uri": "https://localhost:8080/"
        }
      },
      "execution_count": 4,
      "outputs": [
        {
          "output_type": "execute_result",
          "data": {
            "text/plain": [
              "40.0"
            ]
          },
          "metadata": {},
          "execution_count": 4
        }
      ]
    },
    {
      "cell_type": "code",
      "source": [
        "#Esquema Explicito\n",
        "def Presdt(P0,P1,P2,Eta):\n",
        "  Pdt=P1+Eta*(P0-2*P1+P2)\n",
        "  return(Pdt)\n",
        "#Crear matriz que guarda los valores del esquema Explicito\n",
        "Pexplicita=np.zeros((Tiempo//DT,(L//dx)+2)) #Al colocar 2 veces el // se obtiene una division exacta por ende no necesita usar math_floor"
      ],
      "metadata": {
        "id": "XMXGnDUj93oo"
      },
      "execution_count": 5,
      "outputs": []
    },
    {
      "cell_type": "code",
      "source": [
        "#Condiciones iniciales\n",
        "Pyac=1000\n",
        "Piz=500 #Presion Izquierda\n",
        "Pder=0 #Presion derecha\n",
        "Pin=np.ones((L//dx)+2) # se crea un vector (1) de acuerdo al numero de nodos\n",
        "Pres=np.zeros((L//dx)+2) # se crea un vector vacio para colocar los resultados\n",
        "Pin=Pin*Pyac #Vector de 1 se multiplica para la presion de yacimiento y de esta manera se llenan los datos\n",
        "Pin[0]=2*Piz-Pin[1]\n",
        "Pin[len(Pin)-1]=2*Pder-Pin[len(Pin)-2]\n",
        "\n",
        "Pin"
      ],
      "metadata": {
        "colab": {
          "base_uri": "https://localhost:8080/"
        },
        "id": "rHAYVhtJ-S_x",
        "outputId": "449cbed7-f9da-40c3-c0ca-2db66c0496d1"
      },
      "execution_count": 6,
      "outputs": [
        {
          "output_type": "execute_result",
          "data": {
            "text/plain": [
              "array([    0.,  1000.,  1000.,  1000.,  1000., -1000.])"
            ]
          },
          "metadata": {},
          "execution_count": 6
        }
      ]
    },
    {
      "cell_type": "code",
      "source": [
        "t=DT\n",
        "Pexplicita[0]=Pin\n",
        "while t<Tiempo:# se encarga de ir llenando los datos de los tiempos\n",
        "  for i in range(0,len(Pin)-1): # se encarga de llenar los datos del espacio\n",
        "    if i==0: #Condicion inicial cuando i vale 0\n",
        "      Pres[i]=2*Piz-Pin[1]\n",
        "    elif i==len(Pin)-1: # Condicion, el valor final del numero de nodos del vector se considerara menos un nodo de acuerdo a python\n",
        "      Pres[i]=2*Pder-Pin[len(Pin)-2]\n",
        "    else:\n",
        "      Pres[i]=Presdt(Pin[i-1],Pin[i],Pin[i+1],Eta)# Se llama a la funcion\n",
        "  Pexplicita[t//DT]=Pres # Con esta condicion se obtiene el indice de la fila\n",
        "  t=t+DT# se cambia la condicion para calcular la siguiente fila y seguir con el ciclo\n",
        "  Pin=Pres"
      ],
      "metadata": {
        "id": "gXFaaJpJ-VKh",
        "outputId": "a0e91aab-66b2-4808-82a8-2577195f8bab",
        "colab": {
          "base_uri": "https://localhost:8080/"
        }
      },
      "execution_count": 7,
      "outputs": [
        {
          "output_type": "stream",
          "name": "stderr",
          "text": [
            "<ipython-input-5-4ba6db7db5c2>:3: RuntimeWarning: overflow encountered in double_scalars\n",
            "  Pdt=P1+Eta*(P0-2*P1+P2)\n",
            "<ipython-input-5-4ba6db7db5c2>:3: RuntimeWarning: invalid value encountered in double_scalars\n",
            "  Pdt=P1+Eta*(P0-2*P1+P2)\n"
          ]
        }
      ]
    },
    {
      "cell_type": "code",
      "source": [
        "Pexplicita\n"
      ],
      "metadata": {
        "colab": {
          "base_uri": "https://localhost:8080/"
        },
        "id": "W1yXl5uq-unU",
        "outputId": "a94ddd4f-b7d9-4331-c9fe-2559aa07edfd"
      },
      "execution_count": 8,
      "outputs": [
        {
          "output_type": "execute_result",
          "data": {
            "text/plain": [
              "array([[ 0.00000000e+00,  1.00000000e+03,  1.00000000e+03,\n",
              "         1.00000000e+03,  1.00000000e+03, -1.00000000e+03],\n",
              "       [ 0.00000000e+00, -3.90000000e+04,  1.00000000e+03,\n",
              "         1.00000000e+03, -7.90000000e+04,  0.00000000e+00],\n",
              "       [ 4.00000000e+04,  4.72100000e+06,  1.88801000e+08,\n",
              "         7.54880100e+09,  3.01958281e+11,  0.00000000e+00],\n",
              "       ...,\n",
              "       [            nan,             nan,             nan,\n",
              "                    nan,             nan,  0.00000000e+00],\n",
              "       [            nan,             nan,             nan,\n",
              "                    nan,             nan,  0.00000000e+00],\n",
              "       [            nan,             nan,             nan,\n",
              "                    nan,             nan,  0.00000000e+00]])"
            ]
          },
          "metadata": {},
          "execution_count": 8
        }
      ]
    },
    {
      "cell_type": "code",
      "source": [
        "\n"
      ],
      "metadata": {
        "id": "0a7o07Ooq3X1"
      },
      "execution_count": 8,
      "outputs": []
    },
    {
      "cell_type": "markdown",
      "source": [
        "#Esquema implicito\n"
      ],
      "metadata": {
        "id": "7pOgea-VDQBE"
      }
    },
    {
      "cell_type": "code",
      "source": [
        "Pimplicita=np.zeros((Tiempo//DT,(L//dx)+2)) #Matriz que van a contener los resultados incluyendo los nodos de la frontera"
      ],
      "metadata": {
        "id": "NLE3B7DCAum2"
      },
      "execution_count": 9,
      "outputs": []
    },
    {
      "cell_type": "code",
      "source": [
        "#Condiciones iniciales\n",
        "Pyac=1000\n",
        "Piz=500\n",
        "Pder=0\n",
        "Pin=np.ones((L//dx)+2) # Condiciones iniciales de cantidad de nodos de espacio icluido los nodos de la frontera\n",
        "Pin"
      ],
      "metadata": {
        "id": "Mwrd_-D8Eo9Y",
        "outputId": "6c9e81cb-3b87-4e2b-8f77-c7ad6ac45d16",
        "colab": {
          "base_uri": "https://localhost:8080/"
        }
      },
      "execution_count": 10,
      "outputs": [
        {
          "output_type": "execute_result",
          "data": {
            "text/plain": [
              "array([1., 1., 1., 1., 1., 1.])"
            ]
          },
          "metadata": {},
          "execution_count": 10
        }
      ]
    },
    {
      "cell_type": "code",
      "source": [
        "Pres=np.zeros((L//dx)+2)#vectores iniciaces de presion incluido los nodos de frontera\n",
        "Pin=Pin*Pyac#se llenan los datos multiplicando el vector de unos por Pyac\n",
        "Pin[0]=2*Piz-Pin[1] #Condicion de Dirichlet Presion izquierda\n",
        "Pin[len(Pin)-1]=2*Pder-Pin[len(Pin)-2] #Condicion de Dirichlet Presion derecha"
      ],
      "metadata": {
        "id": "qsUcuS-_QRjy"
      },
      "execution_count": 11,
      "outputs": []
    },
    {
      "cell_type": "code",
      "source": [
        "Pin"
      ],
      "metadata": {
        "colab": {
          "base_uri": "https://localhost:8080/"
        },
        "id": "TSJ-kdrrCDR-",
        "outputId": "c30b8d17-e2f8-4bb2-f7e4-593118c5d6c3"
      },
      "execution_count": 12,
      "outputs": [
        {
          "output_type": "execute_result",
          "data": {
            "text/plain": [
              "array([    0.,  1000.,  1000.,  1000.,  1000., -1000.])"
            ]
          },
          "metadata": {},
          "execution_count": 12
        }
      ]
    },
    {
      "cell_type": "code",
      "source": [
        "N=((L//dx)+2)\n",
        "Matriz_resolucion=np.zeros((N-2,N-2))#Matriz resolucion tridiagonal"
      ],
      "metadata": {
        "id": "D24oepB7LIkx"
      },
      "execution_count": 13,
      "outputs": []
    },
    {
      "cell_type": "code",
      "source": [
        "for i in range(N-2): #por el valor de los nos que se resta 2 por la frontera no se toma en cuenta\n",
        "   Matriz_resolucion[i,i]= 1+2*Eta #los diagonales son iguales por eso va i,i= se llenan estos valores\n",
        "   if i>0: #si vale cero\n",
        "    Matriz_resolucion[i,i-1]=-Eta # casillas de la izquierda\n",
        "   if i<(N-3): #Porque no hay valores a la derecha\n",
        "    Matriz_resolucion[i,i+1]=-Eta # casilla derecha de la diagonal\n"
      ],
      "metadata": {
        "id": "02ked7hBK39V"
      },
      "execution_count": 14,
      "outputs": []
    },
    {
      "cell_type": "code",
      "source": [
        "Matriz_resolucion2=np.zeros_like(Matriz_resolucion) # se crea otra matriz por la Presion en el borde"
      ],
      "metadata": {
        "id": "HeA_zx_5QSD-"
      },
      "execution_count": 15,
      "outputs": []
    },
    {
      "cell_type": "code",
      "source": [
        "for i in range(N-3): #por el valor de los nos que se resta 2 por la frontera no se toma en cuenta\n",
        "   Matriz_resolucion2[i,i]= 1+2*Eta #los diagonales son iguales por eso va i,i= se llenan estos valores\n",
        "   if i>0: #si vale cero\n",
        "    Matriz_resolucion2[i,i-1]=-Eta # casillas de la izquierda\n",
        "   if i<(N-4): #Porque no hay valores a la derecha\n",
        "    Matriz_resolucion2[i,i+1]=-Eta # casilla derecha de la diagonal\n",
        "Matriz_resolucion2[1,1]=1+3*Eta #Se llena la primera presion de la primera fila\n",
        "Matriz_resolucion2[N-3,N-3]=1+Eta #Se coloca la condicion de la matriz\n",
        "Pin[1]=2*Eta*Piz #se considera la siguiente condicion para la matriz de acuerdo a la correccion"
      ],
      "metadata": {
        "id": "5VI7eqMhQPtD"
      },
      "execution_count": 16,
      "outputs": []
    },
    {
      "cell_type": "code",
      "source": [
        "Pcal=np.zeros([N-2]) #Crear un vector vacio del tamaño N-2 resultado de presiones\n",
        "Pcal=np.linalg.solve(Matriz_resolucion2,Pin[1:-1]) # Presion calculada resuelve la ecuacion desde Presion 1 hasta el final -1\n",
        "Pcal"
      ],
      "metadata": {
        "id": "3l0SCHDPFrEG",
        "colab": {
          "base_uri": "https://localhost:8080/"
        },
        "outputId": "a0e97328-0eaf-4a71-e725-cd0e8e53cb8e"
      },
      "execution_count": 17,
      "outputs": [
        {
          "output_type": "execute_result",
          "data": {
            "text/plain": [
              "array([622.57682618, 260.71807302, 141.0953447 ,  24.3902439 ])"
            ]
          },
          "metadata": {},
          "execution_count": 17
        }
      ]
    },
    {
      "cell_type": "code",
      "source": [
        "Pres=np.concatenate(([Piz],Pcal,[Pder]))# Matrices combinadas"
      ],
      "metadata": {
        "id": "9MvseN9rNXZ2"
      },
      "execution_count": 18,
      "outputs": []
    },
    {
      "cell_type": "code",
      "source": [
        "Pimplicita[0]=Pin\n",
        "t=DT\n",
        "while t<Tiempo:\n",
        "  Pcal=np.linalg.solve(Matriz_resolucion2,Pin[1:-1]) #Ciclo del Primer sistema de ecuaciones de la presion que se va encontrar desde Presion 1 hasta el final -1\n",
        "  Pres=np.concatenate(([Piz],Pcal,[Pder]))# Se colocan los valores de frontera\n",
        "  Pimplicita[t//DT]=Pres # los tres valores se colocan en la matriz\n",
        "  Pin=Pres #nos indica que va a ir avanzando fila por fila\n",
        "  t=t+DT # Por cada Dt se va llenando la matriz\n"
      ],
      "metadata": {
        "id": "b2rAA9yfNqKq"
      },
      "execution_count": 19,
      "outputs": []
    },
    {
      "cell_type": "code",
      "source": [
        "import matplotlib.pyplot as plt\n",
        "\n",
        "imgplot = plt.imshow(Pimplicita,aspect='auto')\n",
        "plt.colorbar()\n"
      ],
      "metadata": {
        "colab": {
          "base_uri": "https://localhost:8080/",
          "height": 452
        },
        "id": "IhtZm7EQHLAI",
        "outputId": "dfcc7718-cdfa-4ede-cfd4-2c0ef0ece32b"
      },
      "execution_count": 20,
      "outputs": [
        {
          "output_type": "execute_result",
          "data": {
            "text/plain": [
              "<matplotlib.colorbar.Colorbar at 0x7f4ae4277490>"
            ]
          },
          "metadata": {},
          "execution_count": 20
        },
        {
          "output_type": "display_data",
          "data": {
            "text/plain": [
              "<Figure size 640x480 with 2 Axes>"
            ],
            "image/png": "[encoded data removed]"
          },
          "metadata": {}
        }
      ]
    },
    {
      "cell_type": "code",
      "source": [
        "import matplotlib.pyplot as plt\n",
        "\n",
        "imgplot = plt.imshow(Pexplicita,aspect='auto')\n",
        "plt.colorbar()"
      ],
      "metadata": {
        "id": "U0VpiHoHHR2N",
        "colab": {
          "base_uri": "https://localhost:8080/",
          "height": 532
        },
        "outputId": "81e8adc7-4881-4165-db46-407b22a105c4"
      },
      "execution_count": 21,
      "outputs": [
        {
          "output_type": "execute_result",
          "data": {
            "text/plain": [
              "<matplotlib.colorbar.Colorbar at 0x7f4ae4227fd0>"
            ]
          },
          "metadata": {},
          "execution_count": 21
        },
        {
          "output_type": "stream",
          "name": "stderr",
          "text": [
            "/usr/local/lib/python3.10/dist-packages/matplotlib/image.py:455: RuntimeWarning: overflow encountered in double_scalars\n",
            "  newmin = vmid - dv * fact\n",
            "/usr/local/lib/python3.10/dist-packages/matplotlib/image.py:460: RuntimeWarning: overflow encountered in double_scalars\n",
            "  newmax = vmid + dv * fact\n"
          ]
        },
        {
          "output_type": "display_data",
          "data": {
            "text/plain": [
              "<Figure size 640x480 with 2 Axes>"
            ],
            "image/png": "[encoded data removed]"
          },
          "metadata": {}
        }
      ]
    }
  ]
}