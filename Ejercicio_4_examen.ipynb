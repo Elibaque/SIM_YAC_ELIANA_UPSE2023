{
  "nbformat": 4,
  "nbformat_minor": 0,
  "metadata": {
    "colab": {
      "provenance": [],
      "authorship_tag": "ABX9TyO13bkGmcwkw6ImnTAsrMpe",
      "include_colab_link": true
    },
    "kernelspec": {
      "name": "python3",
      "display_name": "Python 3"
    },
    "language_info": {
      "name": "python"
    }
  },
  "cells": [
    {
      "cell_type": "markdown",
      "metadata": {
        "id": "view-in-github",
        "colab_type": "text"
      },
      "source": [
        "<a href=\"https://colab.research.google.com/github/Elibaque/SIM_YAC_ELIANA_UPSE2023/blob/main/Ejercicio_4_examen.ipynb\" target=\"_parent\"><img src=\"https://colab.research.google.com/assets/colab-badge.svg\" alt=\"Open In Colab\"/></a>"
      ]
    },
    {
      "cell_type": "code",
      "execution_count": null,
      "metadata": {
        "id": "mO7i1waGhdD9"
      },
      "outputs": [],
      "source": []
    },
    {
      "cell_type": "code",
      "execution_count": 1,
      "metadata": {
        "id": "XkkUs31e9E0L"
      },
      "outputs": [],
      "source": [
        "import numpy  as np\n",
        "import math\n"
      ]
    },
    {
      "cell_type": "code",
      "source": [
        "#Datos del yacimiento\n",
        "L=30000\n",
        "dx=15000\n",
        "Tiempo=100\n",
        "DT=1\n",
        "K=50 #Permeabilidad MD\n",
        "por=0.5\n",
        "vis=1 # centipoise\n",
        "B=0.7 #Factor volumetrico rb/stb\n",
        "CompTotal=1.2*10**(-6) #ps1-1\n",
        "A=200000#ft^2"
      ],
      "metadata": {
        "id": "Fl7XOlhx9JJK"
      },
      "execution_count": 2,
      "outputs": []
    },
    {
      "cell_type": "code",
      "source": [
        "Alpha=K/(vis*por*CompTotal)\n",
        "Alpha\n",
        "Eta=(Alpha*DT)/(dx**2)\n",
        "Eta"
      ],
      "metadata": {
        "colab": {
          "base_uri": "https://localhost:8080/"
        },
        "id": "1zrh3jY89NRD",
        "outputId": "815b0398-927c-47a9-c6ae-f96a0a614fe3"
      },
      "execution_count": 3,
      "outputs": [
        {
          "output_type": "execute_result",
          "data": {
            "text/plain": [
              "0.3703703703703704"
            ]
          },
          "metadata": {},
          "execution_count": 3
        }
      ]
    },
    {
      "cell_type": "code",
      "source": [
        "Alpha"
      ],
      "metadata": {
        "colab": {
          "base_uri": "https://localhost:8080/"
        },
        "id": "tt9gFkaERmoE",
        "outputId": "df773746-9bb5-4e41-d01b-ad8f9fe52729"
      },
      "execution_count": 4,
      "outputs": [
        {
          "output_type": "execute_result",
          "data": {
            "text/plain": [
              "83333333.33333334"
            ]
          },
          "metadata": {},
          "execution_count": 4
        }
      ]
    },
    {
      "cell_type": "code",
      "source": [],
      "metadata": {
        "id": "z39i6MHFhitD"
      },
      "execution_count": 4,
      "outputs": []
    },
    {
      "cell_type": "markdown",
      "source": [
        "#Esquema implicito"
      ],
      "metadata": {
        "id": "xr29bYuQfpVe"
      }
    },
    {
      "cell_type": "code",
      "source": [
        "#Crear matriz que guarda los valores del esquema Explicito\n",
        "Pimplicita=np.zeros((Tiempo//DT,(L//dx)+2))#Al colocar 2 veces el // se obtiene una division exacta\n",
        "Qimplicita=np.zeros((Tiempo//DT,(L//dx)))"
      ],
      "metadata": {
        "id": "VIgL18WUgCPG"
      },
      "execution_count": 5,
      "outputs": []
    },
    {
      "cell_type": "code",
      "source": [
        "#Condiciones iniciales\n",
        "P0=2000 #Presion en el nodo cero\n",
        "Pyac=1000 #Presion en el borde 1\n",
        "Piz=0 #Presion izquierda\n",
        "Pder=0 #Presion derecha\n",
        "N=((L//dx)+2)\n",
        "Pin=np.zeros(N) #Vector inicial creado  de 1 para poder ingresar la presion de yacimiento\n",
        "Pin=np.ones(N)\n",
        "Pres=np.zeros(N) #Vector inicial vacio para colocar los resultados\n",
        "Pin=Pin*Pyac\n",
        "Pin[0]=2*Piz-Pin[1]\n",
        "Pin[1]=P0\n",
        "Pin[len(Pin)-1]=2*Pder-Pin[len(Pin)-2]\n",
        "Pin=Pin\n",
        "Pin"
      ],
      "metadata": {
        "colab": {
          "base_uri": "https://localhost:8080/"
        },
        "outputId": "4684d5e6-4f48-460f-d635-1c608ec577a7",
        "id": "y8a5lYQGgCPH"
      },
      "execution_count": 6,
      "outputs": [
        {
          "output_type": "execute_result",
          "data": {
            "text/plain": [
              "array([-1000.,  2000.,  1000., -1000.])"
            ]
          },
          "metadata": {},
          "execution_count": 6
        }
      ]
    },
    {
      "cell_type": "code",
      "source": [
        "Baccumul=(A*dx*por*CompTotal)/B # volumen acumulado formula\n",
        "Transmisibilidad=(K*A/(vis*B*dx))*6.33*10**-3# formulta de la transmisibilidadad con factor de correccion por las diferentes unidades\n",
        "Bc=np.zeros([N-2,N-2])#vector en cero de el volumen acumulado donde se ingresan los valores de acuerdo a las condiciones\n",
        "Tr=np.zeros([N-2,N-2])#vector en cero de el volumen acumulado donde se ingresan los valores de transmisiblidad de acuerdo a las condiciones\n",
        "Bc"
      ],
      "metadata": {
        "outputId": "14275079-c26c-434b-d855-b6e60cbda314",
        "colab": {
          "base_uri": "https://localhost:8080/"
        },
        "id": "TjD9KWiigCPH"
      },
      "execution_count": 7,
      "outputs": [
        {
          "output_type": "execute_result",
          "data": {
            "text/plain": [
              "array([[0., 0.],\n",
              "       [0., 0.]])"
            ]
          },
          "metadata": {},
          "execution_count": 7
        }
      ]
    },
    {
      "cell_type": "code",
      "source": [
        "#Caracteristicas de la matriz de Volumen acumulado\n",
        "for i in range(0,N-2):\n",
        "  Bc[i,i]= Baccumul#Solo cuando i=i va a tener el mismo valor que el volumenacumulado\n",
        " #Caracteristicas de la matriz de la transmisibilidad\n",
        "for i in range(0,N-2):\n",
        "  Tr[i,i]=2*Transmisibilidad#Solo cuando i=i va a tener el valor del doble de transmisibilidad\n",
        "  if i>0: #siempre y cuando i se encuentre en la posicion mayor a 0\n",
        "    Tr[i,i-1]=-Transmisibilidad#Los valores de la derecha cuando i=i van a ser la transmisibilidad negativa\n",
        "  if i<(N-3): #siempre y cuando i se encuentre en la posicion mayor a N-3\n",
        "    Tr[i,i+1]=-Transmisibilidad  #Los valores de la izquierda cuando i=i van a ser la transmisibilidad negativa\n",
        "Tr[0,0]=3*Transmisibilidad # Cuando se encuentren en la posicion 0,0 va a vales tres veces la transmisibilidad\n",
        "Tr[N-3,N-3]=Transmisibilidad# Cuando se encuentren en la posicion N-3,N-3 va a ser igual a la transmisibilidad\n",
        "Tr"
      ],
      "metadata": {
        "id": "CKWYj8UMFZwh",
        "colab": {
          "base_uri": "https://localhost:8080/"
        },
        "outputId": "da378fbb-efde-4cf8-ff79-9151cb46be8f"
      },
      "execution_count": 8,
      "outputs": [
        {
          "output_type": "execute_result",
          "data": {
            "text/plain": [
              "array([[18.08571429, -6.02857143],\n",
              "       [-6.02857143,  6.02857143]])"
            ]
          },
          "metadata": {},
          "execution_count": 8
        }
      ]
    },
    {
      "cell_type": "code",
      "source": [
        "#Respecto a la presion\n",
        "Matriz_resolucion=np.zeros_like(Tr) # se crea matriz del tamaño del T\n",
        "Vector_sol=np.zeros_like(Pin[1:-1])# Se indica donde empieza y hasta donde termina la matriz en ceros\n",
        "Matriz_resolucion=Tr+(Bc/DT) #Aplicacion de una parte de la ecuacion del esquema implicito\n",
        "Vector_sol=np.matmul(Bc/DT,Pin[1:-1])#Calcula las matrices, multiplica la matriz  B/DT con Pin[1:-1]\n",
        "#Pres=[]\n",
        "#Respecto al caudal\n",
        "Q=np.zeros_like(Vector_sol)# se crea matriz del tamaño del Vector_sol\n",
        "Q[0]=2*Transmisibilidad*Piz# se coloca la condicion cuando Q se encuentre en el nodo cero\n",
        "Vector_sol=Vector_sol+Q\n",
        "\n"
      ],
      "metadata": {
        "id": "DslssJaIGuJI"
      },
      "execution_count": 9,
      "outputs": []
    },
    {
      "cell_type": "code",
      "source": [
        "Pcal=np.linalg.solve(Matriz_resolucion,Vector_sol)#como es un sistema de ecuaciones lineales se resuelve por linalg"
      ],
      "metadata": {
        "id": "HSk9c7AIG2qj"
      },
      "execution_count": 10,
      "outputs": []
    },
    {
      "cell_type": "code",
      "source": [
        "Pcal"
      ],
      "metadata": {
        "id": "roxTMS93JLND",
        "colab": {
          "base_uri": "https://localhost:8080/"
        },
        "outputId": "0bcffdb2-1b1b-4799-d1a7-d6c571097c9b"
      },
      "execution_count": 11,
      "outputs": [
        {
          "output_type": "execute_result",
          "data": {
            "text/plain": [
              "array([1988.36503016, 1002.31174714])"
            ]
          },
          "metadata": {},
          "execution_count": 11
        }
      ]
    },
    {
      "cell_type": "code",
      "source": [
        "Qimplicita[0]=Q\n",
        "t=DT\n",
        "while t<Tiempo:\n",
        "  Pcal=np.linalg.solve(Matriz_resolucion,Vector_sol)\n",
        "  Pres=np.concatenate(([Piz],Pcal,[Pder]))\n",
        "  Pimplicita[t//DT]=Pres\n",
        "  Vector_sol=np.matmul(Bc/DT,Pcal)+Q\n",
        "  Qimplicita[t//DT]=Vector_sol\n",
        "  t=t+DT"
      ],
      "metadata": {
        "id": "WcB5pQqYG43t"
      },
      "execution_count": 12,
      "outputs": []
    },
    {
      "cell_type": "code",
      "source": [
        "import matplotlib.pyplot as plt\n",
        "\n",
        "imgplot = plt.imshow(Qimplicita,aspect='auto')\n",
        "plt.colorbar()\n"
      ],
      "metadata": {
        "id": "IhtZm7EQHLAI",
        "colab": {
          "base_uri": "https://localhost:8080/",
          "height": 462
        },
        "outputId": "e0b79c22-dfc2-4ca6-a397-64aea75332ec"
      },
      "execution_count": 13,
      "outputs": [
        {
          "output_type": "execute_result",
          "data": {
            "text/plain": [
              "<matplotlib.colorbar.Colorbar at 0x7f7f3c0d7f10>"
            ]
          },
          "metadata": {},
          "execution_count": 13
        },
        {
          "output_type": "display_data",
          "data": {
            "text/plain": [
              "<Figure size 640x480 with 2 Axes>"
            ],
            "image/png": "[encoded data removed]"
          },
          "metadata": {}
        }
      ]
    },
    {
      "cell_type": "code",
      "source": [
        "import matplotlib.pyplot as plt\n",
        "imgplot = plt.imshow(Pimplicita,aspect='auto')\n",
        "plt.colorbar()\n"
      ],
      "metadata": {
        "id": "f9lYXsh4XMmC",
        "colab": {
          "base_uri": "https://localhost:8080/",
          "height": 450
        },
        "outputId": "6cb63501-ee91-483c-99f1-8578edc3eb90"
      },
      "execution_count": 14,
      "outputs": [
        {
          "output_type": "execute_result",
          "data": {
            "text/plain": [
              "<matplotlib.colorbar.Colorbar at 0x7f7f2c5a3520>"
            ]
          },
          "metadata": {},
          "execution_count": 14
        },
        {
          "output_type": "display_data",
          "data": {
            "text/plain": [
              "<Figure size 640x480 with 2 Axes>"
            ],
            "image/png": "[encoded data removed]"
          },
          "metadata": {}
        }
      ]
    }
  ]
}